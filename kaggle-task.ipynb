{
 "cells": [
  {
   "cell_type": "code",
   "execution_count": 1,
   "id": "1ac1b56d",
   "metadata": {},
   "outputs": [],
   "source": [
    "import pandas as pd\n",
    "import matplotlib.pyplot as plt\n",
    "import seaborn as sns\n",
    "import plotly\n",
    "import plotly.express as px\n",
    "\n",
    "churn_data = pd.read_csv('churn.csv')"
   ]
  },
  {
   "cell_type": "code",
   "execution_count": 4,
   "id": "76e07360",
   "metadata": {
    "scrolled": true
   },
   "outputs": [
    {
     "data": {
      "image/png": "[encoded data removed]",
      "text/plain": [
       "<Figure size 360x360 with 1 Axes>"
      ]
     },
     "metadata": {},
     "output_type": "display_data"
    }
   ],
   "source": [
    "#9.1. Каково соотношение ушедших и лояльных клиентов? Покажите это на графике и дайте комментарий по соотношению.\n",
    "grouped_by_exit = churn_data.groupby(['Exited'])['RowNumber'].count()\n",
    "\n",
    "labels = ['Лояльные', 'Ушедшие']\n",
    "colors = sns.color_palette('muted')[0:5]\n",
    "\n",
    "plt.figure(figsize=(5,5), facecolor='white')\n",
    "plt.title('Соотношение числа лояльных и ушедших клиентов', size = 15)\n",
    "plt.pie(grouped_by_exit, explode = [0.1, 0], labels = labels, colors = colors, autopct='%.0f%%')\n",
    "plt.show()"
   ]
  },
  {
   "cell_type": "markdown",
   "id": "773c0778",
   "metadata": {},
   "source": [
    "Из полученных данных можно сделать вывод, что один клиент из пяти прекращает сотрудничать с банком."
   ]
  },
  {
   "cell_type": "code",
   "execution_count": 2,
   "id": "09e37687",
   "metadata": {
    "scrolled": true
   },
   "outputs": [],
   "source": [
    "#9.2. Постройте график, показывающий распределение баланса пользователей, у которых на счету больше 2 500 долларов. Опишите распределение и сделайте выводы.\n",
    "\n",
    "filtered_by_balance = churn_data[churn_data['Balance'] > 2500]\n",
    "fig = px.histogram(\n",
    "    data_frame = filtered_by_balance,\n",
    "    x='Balance',\n",
    "    height=300,\n",
    "    width=700,\n",
    "    title='Распределение баланса клиентов с остатками на счетах более 2500$'\n",
    ")\n",
    "fig.write_image('9.2.png')\n",
    "#fig.show()"
   ]
  },
  {
   "cell_type": "markdown",
   "id": "dba509b8",
   "metadata": {},
   "source": [
    "![title](9.2.png)"
   ]
  },
  {
   "cell_type": "markdown",
   "id": "5424f0d2",
   "metadata": {},
   "source": [
    "Наибольшее число клиентов банка имеют остатки на счетах между 100 и 150 тыс.долл. Количество счетов с остатками более 200 тыс.долл или менее 10 тыс.долл очень мало."
   ]
  },
  {
   "cell_type": "code",
   "execution_count": 3,
   "id": "c16cae0b",
   "metadata": {},
   "outputs": [],
   "source": [
    "#9.3. Посмотрите на распределение баланса клиента в разрезе признака оттока. Как различаются суммы на накопительном счёте ушедших и лояльных клиентов? Подумайте и напишите, с чем это может быть связано, что может не устраивать ушедших клиентов в банке.\n",
    "\n",
    "fig = px.histogram(\n",
    "    data_frame = churn_data,\n",
    "    x='Balance',\n",
    "    color='Exited',\n",
    "    height=500,\n",
    "    width=700,\n",
    "    title='Распределение баланса в зависимости от лояльности клиентов'\n",
    ")\n",
    "fig.write_image('9.3.png')\n",
    "#fig.show()"
   ]
  },
  {
   "cell_type": "markdown",
   "id": "a0c8240f",
   "metadata": {},
   "source": [
    "![title](9.3.png)"
   ]
  },
  {
   "cell_type": "markdown",
   "id": "4bb8835b",
   "metadata": {},
   "source": [
    "В среднем баланс на счетах ушедших клиентов значительно меньше, чем у лояльных. Также можно отметить большой выброс количества как лояльных, так и ушедших клиентов с нулевым балансом. Ушедшим клиентам могли не понравиться предложения банка, качество сервиса."
   ]
  },
  {
   "cell_type": "code",
   "execution_count": 4,
   "id": "c5e41936",
   "metadata": {},
   "outputs": [],
   "source": [
    "#9.4. Посмотрите на распределение возраста в разрезе признака оттока. В какой группе больше потенциальных выбросов? На какую возрастную категорию клиентов стоит обратить внимание банку?\n",
    "\n",
    "fig = px.box(\n",
    "    data_frame=churn_data,\n",
    "    x = 'Age',\n",
    "    color = 'Exited',\n",
    "    height=300,\n",
    "    width=700,\n",
    "    title='Распределение возраста клиентов по группам',\n",
    ")\n",
    "fig.write_image('9.4.png')\n",
    "#fig.show()"
   ]
  },
  {
   "cell_type": "markdown",
   "id": "67eb0c19",
   "metadata": {},
   "source": [
    "![title](9.4.png)"
   ]
  },
  {
   "cell_type": "markdown",
   "id": "446a19a4",
   "metadata": {},
   "source": [
    "Потенциальных выбросов больше у лояльных клиентов, это значит, что почти все возрастные клиенты, которых немного на общем фоне, остаются с банком. На них и стоит обратить внимание."
   ]
  },
  {
   "cell_type": "code",
   "execution_count": 5,
   "id": "926a72b4",
   "metadata": {
    "scrolled": false
   },
   "outputs": [],
   "source": [
    "#9.5. Постройте график, который показывает взаимосвязь кредитного рейтинга клиента и его предполагаемой зарплаты. Добавьте расцветку по признаку оттока клиентов. Какова взаимосвязь между признаками? Если не видите явной взаимосвязи, укажите это.\n",
    "\n",
    "fig = px.scatter(\n",
    "    data_frame=churn_data,\n",
    "    x = 'EstimatedSalary',\n",
    "    y = 'CreditScore',\n",
    "    color='Exited',\n",
    "    height=500,\n",
    "    width=800,\n",
    "    title='Взаимосвязь кредитного рейтинга клиента и его предполагаемой зарплаты', \n",
    ")\n",
    "fig.write_image('9.5.png')\n",
    "#fig.show()"
   ]
  },
  {
   "cell_type": "markdown",
   "id": "2aebeb5f",
   "metadata": {},
   "source": [
    "![title](9.5.png)"
   ]
  },
  {
   "cell_type": "markdown",
   "id": "32e39b4e",
   "metadata": {},
   "source": [
    "Точки разбросаны хаотично и сделать никаких выводов на основе графика нельзя."
   ]
  },
  {
   "cell_type": "code",
   "execution_count": 6,
   "id": "f339582c",
   "metadata": {},
   "outputs": [],
   "source": [
    "#9.6. Кто чаще уходит, мужчины или женщины? Постройте график, который иллюстрирует это.\n",
    "\n",
    "bar_data = churn_data.groupby(['Gender'], as_index=False).mean()\n",
    "fig = px.bar(\n",
    "    data_frame=bar_data,\n",
    "    x='Gender',\n",
    "    y='Exited',\n",
    "    height=300,\n",
    "    width=700,\n",
    "    title='Соотношение ушедших мужчин и женщин'\n",
    ")\n",
    "fig.write_image('9.6.png')\n",
    "#fig.show()"
   ]
  },
  {
   "cell_type": "markdown",
   "id": "26283fed",
   "metadata": {},
   "source": [
    "![title](9.6.png)"
   ]
  },
  {
   "cell_type": "markdown",
   "id": "f8d72b1d",
   "metadata": {},
   "source": [
    "Чаще уходят женщины."
   ]
  },
  {
   "cell_type": "code",
   "execution_count": 7,
   "id": "e51fa576",
   "metadata": {},
   "outputs": [],
   "source": [
    "#9.7. Как отток клиентов зависит от числа приобретённых у банка услуг? Для ответа на этот вопрос постройте многоуровневую столбчатую диаграмму.\n",
    "\n",
    "bar_data = churn_data.groupby(['NumOfProducts', 'Exited'], as_index=False).count()\n",
    "fig = px.bar(\n",
    "    data_frame=bar_data,\n",
    "    x='NumOfProducts',\n",
    "    y='RowNumber',\n",
    "    color='Exited',\n",
    "    barmode='group',\n",
    "    height=300,\n",
    "    width=800,\n",
    "    title='Соотношение ушедших и лольяных клиентов в зависимости от числа услуг'\n",
    ")\n",
    "fig.write_image('9.7.png')\n",
    "#fig.show()\n"
   ]
  },
  {
   "cell_type": "markdown",
   "id": "44bdf6f1",
   "metadata": {},
   "source": [
    "![title](9.7.png)"
   ]
  },
  {
   "cell_type": "markdown",
   "id": "c8dbf0d4",
   "metadata": {},
   "source": [
    "С увеличением числа приобретённых услуг, количество ушедших клиентов снижается."
   ]
  },
  {
   "cell_type": "code",
   "execution_count": 8,
   "id": "f65fa601",
   "metadata": {},
   "outputs": [],
   "source": [
    "#9.8. Как влияет наличие статуса активного клиента на отток клиентов? Постройте диаграмму, иллюстрирующую это. Что бы вы предложили банку, чтобы уменьшить отток клиентов среди неактивных?\n",
    "\n",
    "bar_data = churn_data.groupby(['IsActiveMember', 'Exited'], as_index=False).count()\n",
    "fig = px.bar(\n",
    "    data_frame=bar_data,\n",
    "    x='IsActiveMember',\n",
    "    y='RowNumber',\n",
    "    color='Exited',\n",
    "    barmode='group',\n",
    "    height=300,\n",
    "    width=900,\n",
    "    title='Соотношение ушедших и лольяных клиентов в зависимости от активного статуса клиента'\n",
    ")\n",
    "fig.write_image('9.8.png')\n",
    "#fig.show()"
   ]
  },
  {
   "cell_type": "markdown",
   "id": "513a5fe2",
   "metadata": {},
   "source": [
    "![title](9.8.png)"
   ]
  },
  {
   "cell_type": "markdown",
   "id": "a2942087",
   "metadata": {},
   "source": [
    "Ушедших клиентов с активным статусом меньше, чем ушедших клиентов без активного статуса. Чтобы уменьшить отток клиентов среди неактивных клиентов нужно больше взаимодействовать с ними, проводить опросы. Также можно предложить различного рода акции и стимулы. "
   ]
  },
  {
   "cell_type": "code",
   "execution_count": 9,
   "id": "d43b2bfa",
   "metadata": {},
   "outputs": [],
   "source": [
    "#9.9. В какой стране доля ушедших клиентов больше? Постройте тепловую картограмму, которая покажет это соотношение на карте мира. Предположите, с чем это может быть связано.\n",
    "\n",
    "chor_data = churn_data.groupby(['Geography'], as_index=False).mean()\n",
    "fig = px.choropleth(\n",
    "    data_frame=chor_data,\n",
    "    locations='Geography',\n",
    "    locationmode='country names',\n",
    "    color='Exited',\n",
    "    hover_name='Geography',\n",
    "    color_continuous_scale='Reds',\n",
    "    height=500,\n",
    "    width=700,\n",
    "    title='Отток клиентов на карте мира',\n",
    ")\n",
    "fig.write_image('9.9.png')\n",
    "#fig.show()"
   ]
  },
  {
   "cell_type": "markdown",
   "id": "2ce5efc1",
   "metadata": {},
   "source": [
    "![title](9.9.png)"
   ]
  },
  {
   "cell_type": "markdown",
   "id": "11df5da2",
   "metadata": {},
   "source": [
    "Доля ушедших клиентов больше в Германии. Это может быть связано с более привлекательными предложения конкурентов в данной стране."
   ]
  },
  {
   "cell_type": "code",
   "execution_count": null,
   "id": "51de7f0f",
   "metadata": {},
   "outputs": [],
   "source": [
    "#9.10. Переведите числовой признак CreditScore в категориальный. Для этого воспользуйтесь функцией get_credit_score_cat(), которая приведена ниже. Примените её к столбцу CreditScore и создайте новый признак CreditScoreCat — категории кредитного рейтинга.\n",
    "\n",
    "def get_credit_score_cat(credit_score):\n",
    "    if credit_score >= 300 and credit_score < 500:\n",
    "        return \"Very_Poor\"\n",
    "    elif credit_score >= 500 and credit_score < 601:\n",
    "        return \"Poor\"\n",
    "    elif credit_score >= 601 and credit_score < 661:\n",
    "        return \"Fair\"\n",
    "    elif credit_score >= 661 and credit_score < 781:\n",
    "        return \"Good\"\n",
    "    elif credit_score >= 781 and credit_score < 851:\n",
    "        return \"Excellent\"\n",
    "    elif credit_score >= 851:\n",
    "        return \"Top\"\n",
    "    elif credit_score < 300:\n",
    "        return \"Deep\""
   ]
  }
 ],
 "metadata": {
  "kernelspec": {
   "display_name": "Python 3 (ipykernel)",
   "language": "python",
   "name": "python3"
  },
  "language_info": {
   "codemirror_mode": {
    "name": "ipython",
    "version": 3
   },
   "file_extension": ".py",
   "mimetype": "text/x-python",
   "name": "python",
   "nbconvert_exporter": "python",
   "pygments_lexer": "ipython3",
   "version": "3.8.12"
  }
 },
 "nbformat": 4,
 "nbformat_minor": 5
}
